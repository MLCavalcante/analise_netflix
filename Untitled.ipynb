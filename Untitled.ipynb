{
 "cells": [
  {
   "cell_type": "code",
   "execution_count": 1,
   "id": "f4f55c19",
   "metadata": {},
   "outputs": [],
   "source": [
    "##What is the most popular release year for movies on Netflix?\n",
    "## Qual é o ano de lançamento mais popular para filmes no Netflix? \n",
    "##r: 2018/2017"
   ]
  },
  {
   "cell_type": "code",
   "execution_count": 2,
   "id": "27cea89c",
   "metadata": {},
   "outputs": [],
   "source": [
    "import pandas as pd"
   ]
  },
  {
   "cell_type": "code",
   "execution_count": 3,
   "id": "d855aeb4",
   "metadata": {},
   "outputs": [],
   "source": [
    "df = pd.read_csv('netflix_titles.csv')"
   ]
  },
  {
   "cell_type": "code",
   "execution_count": 4,
   "id": "ad6466f9",
   "metadata": {},
   "outputs": [],
   "source": [
    "movie_df = df[df['type'] == 'Movie']"
   ]
  },
  {
   "cell_type": "code",
   "execution_count": 5,
   "id": "4996f8b6",
   "metadata": {},
   "outputs": [
    {
     "name": "stderr",
     "output_type": "stream",
     "text": [
      "C:\\Users\\maria\\AppData\\Local\\Temp\\ipykernel_19548\\4128477200.py:1: SettingWithCopyWarning: \n",
      "A value is trying to be set on a copy of a slice from a DataFrame.\n",
      "Try using .loc[row_indexer,col_indexer] = value instead\n",
      "\n",
      "See the caveats in the documentation: https://pandas.pydata.org/pandas-docs/stable/user_guide/indexing.html#returning-a-view-versus-a-copy\n",
      "  movie_df['count'] = 1\n"
     ]
    }
   ],
   "source": [
    "movie_df['count'] = 1\n",
    "release_years_summed = movie_df.groupby(['release_year']).sum().reset_index()[['release_year','count']]"
   ]
  },
  {
   "cell_type": "code",
   "execution_count": 6,
   "id": "abc7665b",
   "metadata": {},
   "outputs": [
    {
     "data": {
      "text/html": [
       "<div>\n",
       "<style scoped>\n",
       "    .dataframe tbody tr th:only-of-type {\n",
       "        vertical-align: middle;\n",
       "    }\n",
       "\n",
       "    .dataframe tbody tr th {\n",
       "        vertical-align: top;\n",
       "    }\n",
       "\n",
       "    .dataframe thead th {\n",
       "        text-align: right;\n",
       "    }\n",
       "</style>\n",
       "<table border=\"1\" class=\"dataframe\">\n",
       "  <thead>\n",
       "    <tr style=\"text-align: right;\">\n",
       "      <th></th>\n",
       "      <th>release_year</th>\n",
       "      <th>count</th>\n",
       "    </tr>\n",
       "  </thead>\n",
       "  <tbody>\n",
       "    <tr>\n",
       "      <th>69</th>\n",
       "      <td>2018</td>\n",
       "      <td>767</td>\n",
       "    </tr>\n",
       "    <tr>\n",
       "      <th>68</th>\n",
       "      <td>2017</td>\n",
       "      <td>767</td>\n",
       "    </tr>\n",
       "    <tr>\n",
       "      <th>67</th>\n",
       "      <td>2016</td>\n",
       "      <td>658</td>\n",
       "    </tr>\n",
       "    <tr>\n",
       "      <th>70</th>\n",
       "      <td>2019</td>\n",
       "      <td>633</td>\n",
       "    </tr>\n",
       "    <tr>\n",
       "      <th>71</th>\n",
       "      <td>2020</td>\n",
       "      <td>517</td>\n",
       "    </tr>\n",
       "    <tr>\n",
       "      <th>...</th>\n",
       "      <td>...</td>\n",
       "      <td>...</td>\n",
       "    </tr>\n",
       "    <tr>\n",
       "      <th>12</th>\n",
       "      <td>1961</td>\n",
       "      <td>1</td>\n",
       "    </tr>\n",
       "    <tr>\n",
       "      <th>14</th>\n",
       "      <td>1963</td>\n",
       "      <td>1</td>\n",
       "    </tr>\n",
       "    <tr>\n",
       "      <th>17</th>\n",
       "      <td>1966</td>\n",
       "      <td>1</td>\n",
       "    </tr>\n",
       "    <tr>\n",
       "      <th>5</th>\n",
       "      <td>1947</td>\n",
       "      <td>1</td>\n",
       "    </tr>\n",
       "    <tr>\n",
       "      <th>4</th>\n",
       "      <td>1946</td>\n",
       "      <td>1</td>\n",
       "    </tr>\n",
       "  </tbody>\n",
       "</table>\n",
       "<p>73 rows × 2 columns</p>\n",
       "</div>"
      ],
      "text/plain": [
       "    release_year  count\n",
       "69          2018    767\n",
       "68          2017    767\n",
       "67          2016    658\n",
       "70          2019    633\n",
       "71          2020    517\n",
       "..           ...    ...\n",
       "12          1961      1\n",
       "14          1963      1\n",
       "17          1966      1\n",
       "5           1947      1\n",
       "4           1946      1\n",
       "\n",
       "[73 rows x 2 columns]"
      ]
     },
     "execution_count": 6,
     "metadata": {},
     "output_type": "execute_result"
    }
   ],
   "source": [
    "release_years_summed.sort_values(['count'],ascending=False)"
   ]
  },
  {
   "cell_type": "code",
   "execution_count": 7,
   "id": "e2a682bf",
   "metadata": {},
   "outputs": [],
   "source": [
    "## What year did Netflix add the most content to its platform?\n",
    "## Em que ano a netflix adicionou mais conteúdo em sua plataforma?\n",
    "## r:2019"
   ]
  },
  {
   "cell_type": "code",
   "execution_count": 8,
   "id": "13f21583",
   "metadata": {},
   "outputs": [
    {
     "data": {
      "text/html": [
       "<div>\n",
       "<style scoped>\n",
       "    .dataframe tbody tr th:only-of-type {\n",
       "        vertical-align: middle;\n",
       "    }\n",
       "\n",
       "    .dataframe tbody tr th {\n",
       "        vertical-align: top;\n",
       "    }\n",
       "\n",
       "    .dataframe thead th {\n",
       "        text-align: right;\n",
       "    }\n",
       "</style>\n",
       "<table border=\"1\" class=\"dataframe\">\n",
       "  <thead>\n",
       "    <tr style=\"text-align: right;\">\n",
       "      <th></th>\n",
       "      <th>show_id</th>\n",
       "      <th>type</th>\n",
       "      <th>title</th>\n",
       "      <th>director</th>\n",
       "      <th>cast</th>\n",
       "      <th>country</th>\n",
       "      <th>date_added</th>\n",
       "      <th>release_year</th>\n",
       "      <th>rating</th>\n",
       "      <th>duration</th>\n",
       "      <th>listed_in</th>\n",
       "      <th>description</th>\n",
       "      <th>new_date</th>\n",
       "      <th>date_added_year</th>\n",
       "    </tr>\n",
       "  </thead>\n",
       "  <tbody>\n",
       "    <tr>\n",
       "      <th>0</th>\n",
       "      <td>s1</td>\n",
       "      <td>Movie</td>\n",
       "      <td>Dick Johnson Is Dead</td>\n",
       "      <td>Kirsten Johnson</td>\n",
       "      <td>NaN</td>\n",
       "      <td>United States</td>\n",
       "      <td>September 25, 2021</td>\n",
       "      <td>2020</td>\n",
       "      <td>PG-13</td>\n",
       "      <td>90 min</td>\n",
       "      <td>Documentaries</td>\n",
       "      <td>As her father nears the end of his life, filmm...</td>\n",
       "      <td>2021-09-25</td>\n",
       "      <td>2021.0</td>\n",
       "    </tr>\n",
       "    <tr>\n",
       "      <th>1</th>\n",
       "      <td>s2</td>\n",
       "      <td>TV Show</td>\n",
       "      <td>Blood &amp; Water</td>\n",
       "      <td>NaN</td>\n",
       "      <td>Ama Qamata, Khosi Ngema, Gail Mabalane, Thaban...</td>\n",
       "      <td>South Africa</td>\n",
       "      <td>September 24, 2021</td>\n",
       "      <td>2021</td>\n",
       "      <td>TV-MA</td>\n",
       "      <td>2 Seasons</td>\n",
       "      <td>International TV Shows, TV Dramas, TV Mysteries</td>\n",
       "      <td>After crossing paths at a party, a Cape Town t...</td>\n",
       "      <td>2021-09-24</td>\n",
       "      <td>2021.0</td>\n",
       "    </tr>\n",
       "  </tbody>\n",
       "</table>\n",
       "</div>"
      ],
      "text/plain": [
       "  show_id     type                 title         director   \n",
       "0      s1    Movie  Dick Johnson Is Dead  Kirsten Johnson  \\\n",
       "1      s2  TV Show         Blood & Water              NaN   \n",
       "\n",
       "                                                cast        country   \n",
       "0                                                NaN  United States  \\\n",
       "1  Ama Qamata, Khosi Ngema, Gail Mabalane, Thaban...   South Africa   \n",
       "\n",
       "           date_added  release_year rating   duration   \n",
       "0  September 25, 2021          2020  PG-13     90 min  \\\n",
       "1  September 24, 2021          2021  TV-MA  2 Seasons   \n",
       "\n",
       "                                         listed_in   \n",
       "0                                    Documentaries  \\\n",
       "1  International TV Shows, TV Dramas, TV Mysteries   \n",
       "\n",
       "                                         description   new_date   \n",
       "0  As her father nears the end of his life, filmm... 2021-09-25  \\\n",
       "1  After crossing paths at a party, a Cape Town t... 2021-09-24   \n",
       "\n",
       "   date_added_year  \n",
       "0           2021.0  \n",
       "1           2021.0  "
      ]
     },
     "execution_count": 8,
     "metadata": {},
     "output_type": "execute_result"
    }
   ],
   "source": [
    "df['new_date'] = pd.to_datetime(df['date_added'], format='mixed', errors='coerce')\n",
    "\n",
    "df['date_added_year'] = df['new_date'].dt.year\n",
    "\n",
    "df.head(2)"
   ]
  },
  {
   "cell_type": "code",
   "execution_count": 9,
   "id": "6e6202ba",
   "metadata": {},
   "outputs": [],
   "source": [
    "df['count'] = 1\n",
    "## converter a coluna 'date_added_year' para numérica antes de realizar a operação de soma\n",
    "df['date_added_year'] = pd.to_numeric(df['date_added_year'], errors='coerce')\n",
    "\n",
    "date_added_years_summed = df.groupby(['date_added_year'])['count'].sum().reset_index()\n"
   ]
  },
  {
   "cell_type": "code",
   "execution_count": 10,
   "id": "ea9cb7d0",
   "metadata": {},
   "outputs": [
    {
     "data": {
      "text/html": [
       "<div>\n",
       "<style scoped>\n",
       "    .dataframe tbody tr th:only-of-type {\n",
       "        vertical-align: middle;\n",
       "    }\n",
       "\n",
       "    .dataframe tbody tr th {\n",
       "        vertical-align: top;\n",
       "    }\n",
       "\n",
       "    .dataframe thead th {\n",
       "        text-align: right;\n",
       "    }\n",
       "</style>\n",
       "<table border=\"1\" class=\"dataframe\">\n",
       "  <thead>\n",
       "    <tr style=\"text-align: right;\">\n",
       "      <th></th>\n",
       "      <th>date_added_year</th>\n",
       "      <th>count</th>\n",
       "    </tr>\n",
       "  </thead>\n",
       "  <tbody>\n",
       "    <tr>\n",
       "      <th>11</th>\n",
       "      <td>2019.0</td>\n",
       "      <td>2016</td>\n",
       "    </tr>\n",
       "    <tr>\n",
       "      <th>12</th>\n",
       "      <td>2020.0</td>\n",
       "      <td>1879</td>\n",
       "    </tr>\n",
       "    <tr>\n",
       "      <th>10</th>\n",
       "      <td>2018.0</td>\n",
       "      <td>1649</td>\n",
       "    </tr>\n",
       "    <tr>\n",
       "      <th>13</th>\n",
       "      <td>2021.0</td>\n",
       "      <td>1498</td>\n",
       "    </tr>\n",
       "    <tr>\n",
       "      <th>9</th>\n",
       "      <td>2017.0</td>\n",
       "      <td>1188</td>\n",
       "    </tr>\n",
       "    <tr>\n",
       "      <th>8</th>\n",
       "      <td>2016.0</td>\n",
       "      <td>429</td>\n",
       "    </tr>\n",
       "    <tr>\n",
       "      <th>7</th>\n",
       "      <td>2015.0</td>\n",
       "      <td>82</td>\n",
       "    </tr>\n",
       "    <tr>\n",
       "      <th>6</th>\n",
       "      <td>2014.0</td>\n",
       "      <td>24</td>\n",
       "    </tr>\n",
       "    <tr>\n",
       "      <th>3</th>\n",
       "      <td>2011.0</td>\n",
       "      <td>13</td>\n",
       "    </tr>\n",
       "    <tr>\n",
       "      <th>5</th>\n",
       "      <td>2013.0</td>\n",
       "      <td>11</td>\n",
       "    </tr>\n",
       "    <tr>\n",
       "      <th>4</th>\n",
       "      <td>2012.0</td>\n",
       "      <td>3</td>\n",
       "    </tr>\n",
       "    <tr>\n",
       "      <th>0</th>\n",
       "      <td>2008.0</td>\n",
       "      <td>2</td>\n",
       "    </tr>\n",
       "    <tr>\n",
       "      <th>1</th>\n",
       "      <td>2009.0</td>\n",
       "      <td>2</td>\n",
       "    </tr>\n",
       "    <tr>\n",
       "      <th>2</th>\n",
       "      <td>2010.0</td>\n",
       "      <td>1</td>\n",
       "    </tr>\n",
       "  </tbody>\n",
       "</table>\n",
       "</div>"
      ],
      "text/plain": [
       "    date_added_year  count\n",
       "11           2019.0   2016\n",
       "12           2020.0   1879\n",
       "10           2018.0   1649\n",
       "13           2021.0   1498\n",
       "9            2017.0   1188\n",
       "8            2016.0    429\n",
       "7            2015.0     82\n",
       "6            2014.0     24\n",
       "3            2011.0     13\n",
       "5            2013.0     11\n",
       "4            2012.0      3\n",
       "0            2008.0      2\n",
       "1            2009.0      2\n",
       "2            2010.0      1"
      ]
     },
     "execution_count": 10,
     "metadata": {},
     "output_type": "execute_result"
    }
   ],
   "source": [
    "date_added_years_summed.sort_values(['count'],ascending=False)"
   ]
  },
  {
   "cell_type": "code",
   "execution_count": 61,
   "id": "96b31dd1",
   "metadata": {},
   "outputs": [],
   "source": [
    "##what is the most popular month to add new content?independent of year \n",
    "## Qual é o mês mais popular para adicionar novo conteúdo?\n",
    "##r:july/julho\n"
   ]
  },
  {
   "cell_type": "code",
   "execution_count": 11,
   "id": "ed4dc451",
   "metadata": {},
   "outputs": [
    {
     "data": {
      "text/html": [
       "<div>\n",
       "<style scoped>\n",
       "    .dataframe tbody tr th:only-of-type {\n",
       "        vertical-align: middle;\n",
       "    }\n",
       "\n",
       "    .dataframe tbody tr th {\n",
       "        vertical-align: top;\n",
       "    }\n",
       "\n",
       "    .dataframe thead th {\n",
       "        text-align: right;\n",
       "    }\n",
       "</style>\n",
       "<table border=\"1\" class=\"dataframe\">\n",
       "  <thead>\n",
       "    <tr style=\"text-align: right;\">\n",
       "      <th></th>\n",
       "      <th>date_added_month</th>\n",
       "      <th>count</th>\n",
       "    </tr>\n",
       "  </thead>\n",
       "  <tbody>\n",
       "    <tr>\n",
       "      <th>6</th>\n",
       "      <td>7.0</td>\n",
       "      <td>827</td>\n",
       "    </tr>\n",
       "    <tr>\n",
       "      <th>11</th>\n",
       "      <td>12.0</td>\n",
       "      <td>813</td>\n",
       "    </tr>\n",
       "    <tr>\n",
       "      <th>8</th>\n",
       "      <td>9.0</td>\n",
       "      <td>770</td>\n",
       "    </tr>\n",
       "    <tr>\n",
       "      <th>3</th>\n",
       "      <td>4.0</td>\n",
       "      <td>764</td>\n",
       "    </tr>\n",
       "    <tr>\n",
       "      <th>9</th>\n",
       "      <td>10.0</td>\n",
       "      <td>760</td>\n",
       "    </tr>\n",
       "    <tr>\n",
       "      <th>7</th>\n",
       "      <td>8.0</td>\n",
       "      <td>755</td>\n",
       "    </tr>\n",
       "    <tr>\n",
       "      <th>2</th>\n",
       "      <td>3.0</td>\n",
       "      <td>742</td>\n",
       "    </tr>\n",
       "    <tr>\n",
       "      <th>0</th>\n",
       "      <td>1.0</td>\n",
       "      <td>738</td>\n",
       "    </tr>\n",
       "    <tr>\n",
       "      <th>5</th>\n",
       "      <td>6.0</td>\n",
       "      <td>728</td>\n",
       "    </tr>\n",
       "    <tr>\n",
       "      <th>10</th>\n",
       "      <td>11.0</td>\n",
       "      <td>705</td>\n",
       "    </tr>\n",
       "    <tr>\n",
       "      <th>4</th>\n",
       "      <td>5.0</td>\n",
       "      <td>632</td>\n",
       "    </tr>\n",
       "    <tr>\n",
       "      <th>1</th>\n",
       "      <td>2.0</td>\n",
       "      <td>563</td>\n",
       "    </tr>\n",
       "  </tbody>\n",
       "</table>\n",
       "</div>"
      ],
      "text/plain": [
       "    date_added_month  count\n",
       "6                7.0    827\n",
       "11              12.0    813\n",
       "8                9.0    770\n",
       "3                4.0    764\n",
       "9               10.0    760\n",
       "7                8.0    755\n",
       "2                3.0    742\n",
       "0                1.0    738\n",
       "5                6.0    728\n",
       "10              11.0    705\n",
       "4                5.0    632\n",
       "1                2.0    563"
      ]
     },
     "execution_count": 11,
     "metadata": {},
     "output_type": "execute_result"
    }
   ],
   "source": [
    "df['date_added_month'] = df['new_date'].dt.month\n",
    "date_added_months_summed = df.groupby(['date_added_month'])['count'].sum().reset_index()\n",
    "date_added_months_summed.sort_values(['count'], ascending=False)\n"
   ]
  },
  {
   "cell_type": "code",
   "execution_count": 12,
   "id": "d3f7a898",
   "metadata": {},
   "outputs": [],
   "source": [
    "##what is the movie with the longest title in the dataset?\n",
    "## qual é o filme com o título mais longo da dataset?\n",
    "## Jim & Andy: The Great Beyond - Featuring a Very Special, Contractually Obligated Mention of Tony Clifton'"
   ]
  },
  {
   "cell_type": "code",
   "execution_count": 13,
   "id": "e48fe19b",
   "metadata": {},
   "outputs": [],
   "source": [
    "df.head()\n",
    "movie_df = df[df['type'] == 'Movie']"
   ]
  },
  {
   "cell_type": "code",
   "execution_count": 14,
   "id": "a2cccc32",
   "metadata": {},
   "outputs": [
    {
     "name": "stderr",
     "output_type": "stream",
     "text": [
      "C:\\Users\\maria\\AppData\\Local\\Temp\\ipykernel_19548\\625075229.py:1: SettingWithCopyWarning: \n",
      "A value is trying to be set on a copy of a slice from a DataFrame.\n",
      "Try using .loc[row_indexer,col_indexer] = value instead\n",
      "\n",
      "See the caveats in the documentation: https://pandas.pydata.org/pandas-docs/stable/user_guide/indexing.html#returning-a-view-versus-a-copy\n",
      "  movie_df['title_length'] = [len(title) for title in movie_df['title']]\n"
     ]
    }
   ],
   "source": [
    "movie_df['title_length'] = [len(title) for title in movie_df['title']]"
   ]
  },
  {
   "cell_type": "code",
   "execution_count": 17,
   "id": "fb779c60",
   "metadata": {},
   "outputs": [
    {
     "data": {
      "text/plain": [
       "'Jim & Andy: The Great Beyond - Featuring a Very Special, Contractually Obligated Mention of Tony Clifton'"
      ]
     },
     "execution_count": 17,
     "metadata": {},
     "output_type": "execute_result"
    }
   ],
   "source": [
    "top_title_lengths = movie_df.sort_values(['title_length'], ascending=False)\n",
    "top_title_lengths.iloc[0]['title']"
   ]
  },
  {
   "cell_type": "code",
   "execution_count": null,
   "id": "1cf1ed2b",
   "metadata": {},
   "outputs": [],
   "source": [
    "##which actor/actress shows up most frequently in the netflix database?\n",
    "## que ator/atriz aparece com mais frequência na base de dados da netflix?"
   ]
  },
  {
   "cell_type": "code",
   "execution_count": 18,
   "id": "1a912167",
   "metadata": {},
   "outputs": [],
   "source": [
    "pd.options.display.max_colwidth =150"
   ]
  },
  {
   "cell_type": "code",
   "execution_count": 19,
   "id": "0b565194",
   "metadata": {},
   "outputs": [],
   "source": [
    "title_and_cast_df = df[['title', 'cast']]\n",
    "title_and_cast_df = title_and_cast_df.dropna() "
   ]
  },
  {
   "cell_type": "code",
   "execution_count": 22,
   "id": "8a818509",
   "metadata": {},
   "outputs": [
    {
     "name": "stdout",
     "output_type": "stream",
     "text": [
      "['Ama Qamata', ' Khosi Ngema', ' Gail Mabalane', ' Thabang Molaba', ' Dillon Windvogel', ' Natasha Thahane', ' Arno Greeff', ' Xolile Tshabalala', ' Getmore Sithole', ' Cindy Mahlangu', ' Ryle De Morny', ' Greteli Fincham', ' Sello Maake Ka-Ncube', ' Odwa Gwanya', ' Mekaila Mathys', ' Sandi Schultz', ' Duane Williams', ' Shamilla Miller', ' Patrick Mofokeng']\n",
      "\n",
      "['Sami Bouajila', ' Tracy Gotoas', ' Samuel Jouy', ' Nabiha Akkari', ' Sofia Lesaffre', ' Salim Kechiouche', ' Noureddine Farihi', ' Geert Van Rampelberg', ' Bakary Diombera']\n",
      "\n",
      "['Mayur More', ' Jitendra Kumar', ' Ranjan Raj', ' Alam Khan', ' Ahsaas Channa', ' Revathi Pillai', ' Urvi Singh', ' Arun Kumar']\n",
      "\n",
      "['Kate Siegel', ' Zach Gilford', ' Hamish Linklater', ' Henry Thomas', ' Kristin Lehman', ' Samantha Sloyan', ' Igby Rigney', ' Rahul Kohli', ' Annarah Cymone', ' Annabeth Gish', ' Alex Essoe', ' Rahul Abburi', ' Matt Biedel', ' Michael Trucco', ' Crystal Balint', ' Louis Oliver']\n",
      "\n"
     ]
    }
   ],
   "source": [
    "cast_names_counter = {}\n",
    "\n",
    "for index, row in title_and_cast_df.iterrows():\n",
    "    movie_cast = row['cast']\n",
    "    movie_cast_split = movie_cast.split(',')\n",
    "    movie_cast_stripped = [name.strip().lower() for name in movie_cast_split]\n",
    "    for name in movie_cast_stripped:\n",
    "        cast_names_counter[name] =cast_names_counter.get(name, 0) + 1\n",
    "    \n",
    "dict(sorted(cast_names_counter.items(), key= lambda))    "
   ]
  },
  {
   "cell_type": "code",
   "execution_count": null,
   "id": "fcc72f80",
   "metadata": {},
   "outputs": [],
   "source": []
  },
  {
   "cell_type": "code",
   "execution_count": null,
   "id": "63181db6",
   "metadata": {},
   "outputs": [],
   "source": []
  }
 ],
 "metadata": {
  "kernelspec": {
   "display_name": "Python 3 (ipykernel)",
   "language": "python",
   "name": "python3"
  },
  "language_info": {
   "codemirror_mode": {
    "name": "ipython",
    "version": 3
   },
   "file_extension": ".py",
   "mimetype": "text/x-python",
   "name": "python",
   "nbconvert_exporter": "python",
   "pygments_lexer": "ipython3",
   "version": "3.11.3"
  }
 },
 "nbformat": 4,
 "nbformat_minor": 5
}
